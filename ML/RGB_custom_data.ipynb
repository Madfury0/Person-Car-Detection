{
  "cells": [
    {
      "cell_type": "markdown",
      "metadata": {
        "id": "view-in-github",
        "colab_type": "text"
      },
      "source": [
        "<a href=\"https://colab.research.google.com/github/Madfury0/Person-Car-Detection/blob/main/RGB_custom_data.ipynb\" target=\"_parent\"><img src=\"https://colab.research.google.com/assets/colab-badge.svg\" alt=\"Open In Colab\"/></a>"
      ]
    },
    {
      "cell_type": "markdown",
      "metadata": {
        "id": "UEo6D7tU4G9J"
      },
      "source": [
        "Data preprocessing"
      ]
    },
    {
      "cell_type": "code",
      "execution_count": null,
      "metadata": {
        "id": "U6jKMr-vT3jk"
      },
      "outputs": [],
      "source": [
        "import numpy as np\n",
        "import os\n",
        "import matplotlib.pyplot as plt\n",
        "import cv2\n",
        "from google.colab import drive\n",
        "import time\n",
        "from datetime import datetime\n",
        "\n",
        "t = datetime.now().strftime(\"%H:%M\")\n",
        "\n",
        "model_name = 'RGB'"
      ]
    },
    {
      "cell_type": "code",
      "execution_count": null,
      "metadata": {
        "id": "mvSdtSlJVTc8",
        "colab": {
          "base_uri": "https://localhost:8080/"
        },
        "outputId": "1257e5c2-c79f-486f-8008-5e2dc7869908"
      },
      "outputs": [
        {
          "output_type": "stream",
          "name": "stdout",
          "text": [
            "Mounted at /content/drive\n",
            "Folder '/content/drive/MyDrive/dataset' created in Google Drive.\n"
          ]
        }
      ],
      "source": [
        "# Mount Google Drive\n",
        "drive.mount('/content/drive')\n",
        "\n",
        "# Create a folder in Google Drive\n",
        "data_path = '/content/drive/MyDrive/dataset'\n",
        "os.makedirs(data_path, exist_ok=True)\n",
        "print(f\"Folder '{data_path}' created in Google Drive.\")\n",
        "\n",
        "save_directory = '/content/drive/MyDrive/models'\n",
        "os.makedirs(save_directory, exist_ok=True)\n",
        "save_path = os.path.join (save_directory, f\"{model_name}.keras\")\n",
        "\n",
        "\n",
        "save_directory = '/content/drive/MyDrive/models'\n",
        "os.makedirs(save_directory, exist_ok=True)\n",
        "save_path_lite = os.path.join (save_directory, f\"{model_name}.tflite\")\n",
        "\n",
        "\n",
        "Test_dir = '/content/drive/MyDrive/Test_img'\n",
        "os.makedirs(Test_dir, exist_ok=True)\n",
        "Test_folder= '/content/drive/MyDrive/Test_img/test'\n",
        "os.makedirs(Test_folder, exist_ok=True)\n",
        "\n",
        "Ard_dir = '/content/drive/MyDrive/Arduino'\n",
        "os.makedirs(Ard_dir, exist_ok=True)\n",
        "Lib_folder= '/content/drive/MyDrive/Arduino/Library'\n",
        "os.makedirs(Lib_folder, exist_ok=True)"
      ]
    },
    {
      "cell_type": "code",
      "execution_count": null,
      "metadata": {
        "id": "p265uaOph-3Q"
      },
      "outputs": [],
      "source": [
        "\n",
        "DATADIR = data_path\n",
        "CATEGORIES = ['person','car']\n",
        "\n",
        "IMG_SIZE = 96\n",
        "\n",
        "training_data = []\n",
        "\n",
        "def create_training_data ():\n",
        "    for category in CATEGORIES:\n",
        "        path = os.path.join (DATADIR, category)\n",
        "        class_num = CATEGORIES.index (category)\n",
        "        for img in os.listdir (path):\n",
        "            try:\n",
        "                img_array = cv2.imread (os.path.join(path, img))\n",
        "                img_array = cv2.cvtColor(img_array,cv2.COLOR_BGR2RGB)\n",
        "                new_array = cv2.resize (img_array, (IMG_SIZE, IMG_SIZE))\n",
        "                new_array = new_array/255\n",
        "                training_data.append ([new_array, class_num])\n",
        "            except Exception as e:\n",
        "                pass\n",
        "    return class_num\n",
        "\n",
        "create_training_data ()"
      ]
    },
    {
      "cell_type": "code",
      "execution_count": null,
      "metadata": {
        "id": "J-LmYY5xj-NR"
      },
      "outputs": [],
      "source": [
        "\n",
        "save_directory ='/content/drive/MyDrive/Training_data'\n",
        "os.makedirs(save_directory, exist_ok=True)\n",
        "class_path = os.path.join (save_directory, \"class_num.txt\")\n",
        "\n",
        "with open(class_path, 'w') as file:\n",
        "    file.write(str(class_num))"
      ]
    },
    {
      "cell_type": "code",
      "execution_count": null,
      "metadata": {
        "id": "Gm39W-prt4qO"
      },
      "outputs": [],
      "source": [
        "\n",
        "\n",
        "import random\n",
        "for i in range (3):\n",
        "    random.shuffle (training_data)"
      ]
    },
    {
      "cell_type": "code",
      "execution_count": null,
      "metadata": {
        "id": "VMG_8K3TrYdK"
      },
      "outputs": [],
      "source": [
        "print (len(training_data))\n",
        "for sample in training_data[:20]:\n",
        "   print (sample[1] )"
      ]
    },
    {
      "cell_type": "code",
      "execution_count": null,
      "metadata": {
        "id": "qwMMH5AAv2nF"
      },
      "outputs": [],
      "source": [
        "from tensorflow.keras.utils import to_categorical\n",
        "X = []\n",
        "y = []\n",
        "for features, label in training_data:\n",
        "    X.append (features)\n",
        "    y.append (label)\n",
        "X = np.array (X).reshape (-1,IMG_SIZE,IMG_SIZE,3)\n",
        "y = np.array (y)\n",
        "count_zeros = np.count_nonzero(y == 0)\n",
        "print (count_zeros)\n",
        "y = to_categorical(y, num_classes=2)"
      ]
    },
    {
      "cell_type": "markdown",
      "metadata": {
        "id": "F6r6ZchB49_C"
      },
      "source": [
        "Data saving"
      ]
    },
    {
      "cell_type": "code",
      "execution_count": null,
      "metadata": {
        "id": "7sWb7JavxfMx"
      },
      "outputs": [],
      "source": [
        "#saving training data\n",
        "import pickle\n",
        "save_directory ='/content/drive/MyDrive/Training_data'\n",
        "os.makedirs(save_directory, exist_ok=True)\n",
        "save_path_X = os.path.join (save_directory, f\"X-{model_name}.pickle\")\n",
        "save_path_y = os.path.join (save_directory, f\"y-{model_name}.pickle\")\n",
        "\n",
        "pickle_out = open (save_path_X, \"wb\")\n",
        "pickle.dump (X, pickle_out)\n",
        "pickle_out.close ()\n",
        "\n",
        "pickle_out = open (save_path_y, \"wb\")\n",
        "pickle.dump (y, pickle_out)\n",
        "pickle_out.close ()"
      ]
    },
    {
      "cell_type": "code",
      "execution_count": null,
      "metadata": {
        "id": "6zQ4Y1VDyW7L"
      },
      "outputs": [],
      "source": [
        "\n",
        "#loading training data\n",
        "import pickle\n",
        "save_directory ='/content/drive/MyDrive/Training_data'\n",
        "os.makedirs(save_directory, exist_ok=True)\n",
        "save_path_X = os.path.join (save_directory, f\"X-{model_name}.pickle\")\n",
        "save_path_y = os.path.join (save_directory, f\"y-{model_name}.pickle\")\n",
        "\n",
        "\n",
        "pickle_in = open (save_path_X, \"rb\")\n",
        "X = pickle.load (pickle_in)\n",
        "\n",
        "pickle_in = open (save_path_y, \"rb\")\n",
        "y = pickle.load (pickle_in)"
      ]
    },
    {
      "cell_type": "code",
      "execution_count": null,
      "metadata": {
        "id": "S2ibG-IWOBzT"
      },
      "outputs": [],
      "source": [
        "print (X.shape)\n",
        "print (y.shape)\n",
        "print (y[10:])"
      ]
    },
    {
      "cell_type": "markdown",
      "metadata": {
        "id": "PVuLqLpu45hl"
      },
      "source": [
        "Data Augmentation"
      ]
    },
    {
      "cell_type": "code",
      "execution_count": null,
      "metadata": {
        "id": "-rUO5cNtt5qB"
      },
      "outputs": [],
      "source": [
        "from tensorflow.keras.preprocessing.image import ImageDataGenerator\n",
        "\n",
        "datagen = ImageDataGenerator(\n",
        "    rotation_range=20,\n",
        "    width_shift_range=0.15,\n",
        "    height_shift_range=0.2,\n",
        "    shear_range=0.2,\n",
        "    zoom_range=0.3,\n",
        "    horizontal_flip=True,\n",
        "    fill_mode='nearest'\n",
        ")"
      ]
    },
    {
      "cell_type": "markdown",
      "metadata": {
        "id": "_yvT127R3psh"
      },
      "source": [
        "CNN model"
      ]
    },
    {
      "cell_type": "code",
      "execution_count": null,
      "metadata": {
        "id": "-cTuUTL4xINh",
        "colab": {
          "base_uri": "https://localhost:8080/"
        },
        "outputId": "ec8cad3e-9aee-43c1-997e-3b99e6440503"
      },
      "outputs": [
        {
          "output_type": "stream",
          "name": "stdout",
          "text": [
            "Epoch 1/15\n",
            "225/225 [==============================] - 29s 98ms/step - loss: 1.0277 - accuracy: 0.5921 - val_loss: 0.6674 - val_accuracy: 0.6670\n",
            "Epoch 2/15\n",
            "225/225 [==============================] - 32s 143ms/step - loss: 0.5912 - accuracy: 0.7446 - val_loss: 0.5216 - val_accuracy: 0.8130\n",
            "Epoch 3/15\n",
            "225/225 [==============================] - 22s 96ms/step - loss: 0.5215 - accuracy: 0.7837 - val_loss: 0.4859 - val_accuracy: 0.8257\n",
            "Epoch 4/15\n",
            "225/225 [==============================] - 22s 96ms/step - loss: 0.4819 - accuracy: 0.8017 - val_loss: 0.4332 - val_accuracy: 0.8563\n",
            "Epoch 5/15\n",
            "225/225 [==============================] - 20s 90ms/step - loss: 0.4499 - accuracy: 0.8205 - val_loss: 0.4062 - val_accuracy: 0.8563\n",
            "Epoch 6/15\n",
            "225/225 [==============================] - 21s 94ms/step - loss: 0.4138 - accuracy: 0.8432 - val_loss: 0.3542 - val_accuracy: 0.8824\n",
            "Epoch 7/15\n",
            "225/225 [==============================] - 22s 98ms/step - loss: 0.4011 - accuracy: 0.8460 - val_loss: 0.4120 - val_accuracy: 0.8529\n",
            "Epoch 8/15\n",
            "225/225 [==============================] - 20s 90ms/step - loss: 0.3844 - accuracy: 0.8542 - val_loss: 0.3353 - val_accuracy: 0.8951\n",
            "Epoch 9/15\n",
            "225/225 [==============================] - 21s 94ms/step - loss: 0.3716 - accuracy: 0.8569 - val_loss: 0.3178 - val_accuracy: 0.8957\n",
            "Epoch 10/15\n",
            "225/225 [==============================] - 22s 96ms/step - loss: 0.3632 - accuracy: 0.8650 - val_loss: 0.3770 - val_accuracy: 0.8663\n",
            "Epoch 11/15\n",
            "225/225 [==============================] - 21s 92ms/step - loss: 0.3495 - accuracy: 0.8689 - val_loss: 0.2814 - val_accuracy: 0.9118\n",
            "Epoch 12/15\n",
            "225/225 [==============================] - 22s 97ms/step - loss: 0.3333 - accuracy: 0.8781 - val_loss: 0.3187 - val_accuracy: 0.8901\n",
            "Epoch 13/15\n",
            "225/225 [==============================] - 21s 95ms/step - loss: 0.3263 - accuracy: 0.8838 - val_loss: 0.2701 - val_accuracy: 0.9140\n",
            "Epoch 14/15\n",
            "225/225 [==============================] - 20s 90ms/step - loss: 0.3198 - accuracy: 0.8857 - val_loss: 0.2757 - val_accuracy: 0.9173\n",
            "Epoch 15/15\n",
            "225/225 [==============================] - 23s 101ms/step - loss: 0.3044 - accuracy: 0.8903 - val_loss: 0.2790 - val_accuracy: 0.9068\n"
          ]
        }
      ],
      "source": [
        "\n",
        "import tensorflow as tf\n",
        "from tensorflow.keras.models import Sequential\n",
        "from tensorflow.keras.optimizers import Adam\n",
        "from tensorflow.keras.callbacks import ModelCheckpoint\n",
        "from tensorflow.keras.layers import Dense, Flatten, Conv2D, MaxPooling2D, Dropout, Activation\n",
        "from tensorflow.keras import regularizers\n",
        "from sklearn.model_selection import train_test_split\n",
        "\n",
        "l_r = 0.0005\n",
        "Epochs = 15\n",
        "opt = Adam(learning_rate = l_r)\n",
        "batch_size = 32\n",
        "\n",
        "X_train, X_val, y_train, y_val = train_test_split(X, y, test_size=0.2, random_state=42)\n",
        "model = Sequential()\n",
        "\n",
        "model.add(Conv2D(128, (3, 3), input_shape=X.shape[1:],kernel_regularizer=regularizers.l1(0.01)))\n",
        "model.add(Activation(\"relu\"))\n",
        "model.add(MaxPooling2D(pool_size=(2, 2)))\n",
        "model.add(Dropout(0.2))\n",
        "\n",
        "model.add(Conv2D(64, (3,3)))\n",
        "model.add(Activation(\"relu\"))\n",
        "model.add(MaxPooling2D(pool_size = (2,2)))\n",
        "model.add(Dropout(0.1))\n",
        "\n",
        "model.add(Flatten())\n",
        "model.add(Dense(64))\n",
        "model.add(Activation(\"relu\"))\n",
        "\n",
        "model.add(Dense(2))\n",
        "model.add(Activation (\"softmax\"))\n",
        "\n",
        "\n",
        "model.compile(loss = \"binary_crossentropy\",\n",
        "              optimizer = opt,\n",
        "              metrics = [\"accuracy\"])\n",
        "\n",
        "datagen.fit(X_train)\n",
        "\n",
        "train_generator = datagen.flow(X_train, y_train, batch_size = batch_size)\n",
        "\n",
        "#print(type(train_generator))\n",
        "\n",
        "history = model.fit(train_generator, steps_per_epoch=len(X_train) // batch_size, epochs=Epochs, validation_data=(X_val, y_val))\n",
        "\n",
        "#checkpoint = ModelCheckpoint(save_path,save_freq = 'epoch', monitor='val_loss', save_best_only=True, save_weights_only=False, mode='auto')\n",
        "#history = model.fit(X,y, batch_size = 32, epochs = Epochs, verbose = 1, callbacks = [checkpoint])"
      ]
    },
    {
      "cell_type": "code",
      "execution_count": null,
      "metadata": {
        "colab": {
          "base_uri": "https://localhost:8080/"
        },
        "id": "lpCfyYdlCcPe",
        "outputId": "4c18f09c-c319-42ba-f5cd-c1aec1a59b9f"
      },
      "outputs": [
        {
          "output_type": "stream",
          "name": "stdout",
          "text": [
            "Model: \"sequential\"\n",
            "_________________________________________________________________\n",
            " Layer (type)                Output Shape              Param #   \n",
            "=================================================================\n",
            " conv2d (Conv2D)             (None, 94, 94, 128)       3584      \n",
            "                                                                 \n",
            " activation (Activation)     (None, 94, 94, 128)       0         \n",
            "                                                                 \n",
            " max_pooling2d (MaxPooling2  (None, 47, 47, 128)       0         \n",
            " D)                                                              \n",
            "                                                                 \n",
            " dropout (Dropout)           (None, 47, 47, 128)       0         \n",
            "                                                                 \n",
            " conv2d_1 (Conv2D)           (None, 45, 45, 64)        73792     \n",
            "                                                                 \n",
            " activation_1 (Activation)   (None, 45, 45, 64)        0         \n",
            "                                                                 \n",
            " max_pooling2d_1 (MaxPoolin  (None, 22, 22, 64)        0         \n",
            " g2D)                                                            \n",
            "                                                                 \n",
            " dropout_1 (Dropout)         (None, 22, 22, 64)        0         \n",
            "                                                                 \n",
            " flatten (Flatten)           (None, 30976)             0         \n",
            "                                                                 \n",
            " dense (Dense)               (None, 64)                1982528   \n",
            "                                                                 \n",
            " activation_2 (Activation)   (None, 64)                0         \n",
            "                                                                 \n",
            " dense_1 (Dense)             (None, 2)                 130       \n",
            "                                                                 \n",
            " activation_3 (Activation)   (None, 2)                 0         \n",
            "                                                                 \n",
            "=================================================================\n",
            "Total params: 2060034 (7.86 MB)\n",
            "Trainable params: 2060034 (7.86 MB)\n",
            "Non-trainable params: 0 (0.00 Byte)\n",
            "_________________________________________________________________\n"
          ]
        }
      ],
      "source": [
        "model.summary ()"
      ]
    },
    {
      "cell_type": "code",
      "execution_count": null,
      "metadata": {
        "id": "XfGdM9XwVmBm",
        "colab": {
          "base_uri": "https://localhost:8080/"
        },
        "outputId": "3fa06a98-7b59-4a9a-f02f-d72f3be45a3e"
      },
      "outputs": [
        {
          "output_type": "stream",
          "name": "stdout",
          "text": [
            "57/57 [==============================] - 1s 9ms/step - loss: 0.2790 - accuracy: 0.9068\n"
          ]
        },
        {
          "output_type": "execute_result",
          "data": {
            "text/plain": [
              "[0.279009610414505, 0.9067702293395996]"
            ]
          },
          "metadata": {},
          "execution_count": 7
        }
      ],
      "source": [
        "model.evaluate(X_val,y_val)"
      ]
    },
    {
      "cell_type": "code",
      "execution_count": null,
      "metadata": {
        "id": "qK5kkuRlONFj"
      },
      "outputs": [],
      "source": [
        "model.save(save_path)"
      ]
    },
    {
      "cell_type": "code",
      "execution_count": null,
      "metadata": {
        "colab": {
          "base_uri": "https://localhost:8080/",
          "height": 249
        },
        "id": "odKxowA9V5_L",
        "outputId": "6a3939f1-5ecf-40c7-b251-496a7cda6add"
      },
      "outputs": [
        {
          "output_type": "display_data",
          "data": {
            "text/plain": [
              "<Figure size 640x480 with 1 Axes>"
            ],
            "image/png": "[encoded data removed]"
          },
          "metadata": {}
        }
      ],
      "source": [
        "import matplotlib.pyplot as plt\n",
        "\n",
        "plt.plot(history.history['accuracy'], label='accuracy')\n",
        "plt.plot(history.history['val_accuracy'], label='val_accuracy')\n",
        "plt.plot(history.history['loss'], label='loss')\n",
        "plt.plot(history.history['val_loss'], label='val_loss')\n",
        "plt.xlabel('Epoch')\n",
        "plt.ylabel('Metric Value')\n",
        "plt.legend()\n",
        "plt.show()"
      ]
    },
    {
      "cell_type": "markdown",
      "metadata": {
        "id": "PY4v3gU75eXy"
      },
      "source": [
        "Random images test"
      ]
    },
    {
      "cell_type": "code",
      "execution_count": null,
      "metadata": {
        "id": "NgPD1vyIs5Nc",
        "colab": {
          "base_uri": "https://localhost:8080/"
        },
        "outputId": "9917c42f-3ae7-4444-ec37-d6c77065049f"
      },
      "outputs": [
        {
          "output_type": "stream",
          "name": "stdout",
          "text": [
            "Model loaded successfully: <keras.src.engine.sequential.Sequential object at 0x7821fe2ff490>\n"
          ]
        }
      ],
      "source": [
        "import tensorflow as tf\n",
        "model = tf.keras.models.load_model(save_path)\n",
        "\n",
        "print(f\"Model loaded successfully: {model}\")"
      ]
    },
    {
      "cell_type": "code",
      "execution_count": null,
      "metadata": {
        "id": "oUhhndsRuboG"
      },
      "outputs": [],
      "source": [
        "\n",
        "directory_path = Test_dir\n",
        "folder_name = Test_folder\n",
        "test_folder_path = os.path.join(directory_path, folder_name)\n",
        "\n",
        "IMG_SIZE = 96\n",
        "DATADIR = data_path\n",
        "CATEGORIES = ['person','car']\n",
        "\n",
        "\n",
        "if os.path.exists(test_folder_path):\n",
        "    image_files = [f for f in os.listdir(test_folder_path) if os.path.isfile(os.path.join(test_folder_path, f))]\n",
        "    for image_file in image_files:\n",
        "        image_path = os.path.join(test_folder_path, image_file)\n",
        "        img = cv2.imread(image_path)\n",
        "        img = cv2.cvtColor(img, cv2.COLOR_BGR2RGB)\n",
        "        plt.imshow (img)\n",
        "        plt.show ()\n",
        "        img = cv2.resize(img,(IMG_SIZE,IMG_SIZE))\n",
        "        img = img/255\n",
        "        input_img = np.expand_dims(img, axis=0)\n",
        "        Predictions = model.predict([input_img])\n",
        "\n",
        "        predicted_class = CATEGORIES[np.argmax(Predictions)]\n",
        "        confidence = np.max(Predictions)\n",
        "\n",
        "\n",
        "        if  confidence >= 0.6:\n",
        "            print (predicted_class, confidence)\n",
        "        else:\n",
        "            print (\"unrecognisable class\")\n",
        "else:\n",
        "    print(f\"The folder '{folder_name}' doesn't exist\")"
      ]
    },
    {
      "cell_type": "markdown",
      "source": [
        "Using opencv for real time inferencing"
      ],
      "metadata": {
        "id": "VsWVeuthSith"
      }
    },
    {
      "cell_type": "code",
      "source": [
        "\n",
        "# Define the categories and confidence threshold\n",
        "CATEGORIES = ['person', 'car']\n",
        "CONFIDENCE_THRESHOLD = 0.7\n",
        "\n",
        "# Load the pre-trained model\n",
        "model = model\n",
        "\n",
        "# Start video capture from the default camera (index 0)\n",
        "cap = cv2.VideoCapture(0)\n",
        "\n",
        "while True:\n",
        "    # Capture frame-by-frame\n",
        "    ret, frame = cap.read()\n",
        "\n",
        "    # Perform object detection on the frame\n",
        "    img = cv2.cvtColor(frame, cv2.COLOR_BGR2RGB)\n",
        "    img = cv2.resize(img, (IMG_SIZE, IMG_SIZE))\n",
        "    img = img / 255\n",
        "    input_img = np.expand_dims(img, axis=0)\n",
        "    predictions = model.predict([input_img])\n",
        "\n",
        "    predicted_class = CATEGORIES[np.argmax(predictions)]\n",
        "    confidence = np.max(predictions)\n",
        "\n",
        "    # Display the frame with object detection results\n",
        "    cv2.putText(frame, f'{predicted_class}: {confidence}', (50, 50), cv2.FONT_HERSHEY_SIMPLEX, 1, (0, 255, 0), 2)\n",
        "\n",
        "    cv2.imshow('Object Detection', frame)\n",
        "\n",
        "    # Exit loop if 'q' is pressed\n",
        "    if cv2.waitKey(1) & 0xFF == ord('q'):\n",
        "        break\n",
        "\n",
        "# Release the capture\n",
        "cap.release()\n",
        "cv2.destroyAllWindows()"
      ],
      "metadata": {
        "id": "e7Db3TLMSGX-"
      },
      "execution_count": null,
      "outputs": []
    },
    {
      "cell_type": "markdown",
      "metadata": {
        "id": "jaPYgFQH6Asj"
      },
      "source": [
        "Converting to tflite"
      ]
    },
    {
      "cell_type": "code",
      "source": [
        "import tensorflow as tf\n",
        "IMG_SIZE = 96\n",
        "\n",
        "DATADIR = data_path\n",
        "CATEGORIES = ['person', 'car']\n",
        "\n",
        "def representative_data_gen():\n",
        "    data_dir = DATADIR\n",
        "    batch_size = 32\n",
        "    img_height = IMG_SIZE\n",
        "    img_width = IMG_SIZE\n",
        "\n",
        "    class_names = CATEGORIES\n",
        "\n",
        "    train_images = tf.keras.preprocessing.image_dataset_from_directory(\n",
        "        data_dir,\n",
        "        class_names=class_names,\n",
        "        validation_split=0.2,\n",
        "        subset=\"training\",\n",
        "        seed=123,\n",
        "        image_size=(img_height, img_width),\n",
        "        batch_size=batch_size)\n",
        "\n",
        "    #standardize the images\n",
        "    normalization_layer = tf.keras.layers.experimental.preprocessing.Rescaling(1/255)\n",
        "    normalized_ds = train_images.map(lambda x, y: (normalization_layer(x), y))\n",
        "    image_batch, labels_batch = next((iter(normalized_ds)))\n",
        "    first_image = image_batch[0]\n",
        "    #print(image_batch)\n",
        "    # Notice the pixels values are now in `[0,1]`.\n",
        "    print(np.min(first_image), np.max(first_image))\n",
        "\n",
        "    for input_value in tf.data.Dataset.from_tensor_slices(image_batch).batch(1).take(100):\n",
        "        # Model has only one input so each data point has one element.\n",
        "        yield [input_value]"
      ],
      "metadata": {
        "id": "rLRwtea6IYrM"
      },
      "execution_count": null,
      "outputs": []
    },
    {
      "cell_type": "code",
      "execution_count": null,
      "metadata": {
        "id": "G9MlKpsu5OUu",
        "colab": {
          "base_uri": "https://localhost:8080/"
        },
        "outputId": "292f6da2-044f-46c4-a573-fa487b91bbb3"
      },
      "outputs": [
        {
          "output_type": "stream",
          "name": "stderr",
          "text": [
            "/usr/local/lib/python3.10/dist-packages/tensorflow/lite/python/convert.py:953: UserWarning: Statistics for quantized inputs were expected, but not specified; continuing anyway.\n",
            "  warnings.warn(\n"
          ]
        },
        {
          "output_type": "stream",
          "name": "stdout",
          "text": [
            "Found 9010 files belonging to 2 classes.\n",
            "Using 7208 files for training.\n",
            "0.0 0.9790851\n"
          ]
        }
      ],
      "source": [
        "converter = tf.lite.TFLiteConverter.from_keras_model(model)\n",
        "converter.optimizations = [tf.lite.Optimize.DEFAULT]\n",
        "converter.representative_dataset = representative_data_gen\n",
        "converter.target_spec.supported_ops = [tf.lite.OpsSet.TFLITE_BUILTINS_INT8]\n",
        "converter.inference_input_type = tf.uint8\n",
        "converter.inference_output_type = tf.uint8\n",
        "tflite_quant_model = converter.convert()"
      ]
    },
    {
      "cell_type": "code",
      "source": [
        "with open(save_path_lite, \"wb\") as f:\n",
        "    f.write(tflite_quant_model)"
      ],
      "metadata": {
        "id": "gNbk7AOyaILy"
      },
      "execution_count": null,
      "outputs": []
    },
    {
      "cell_type": "code",
      "execution_count": null,
      "metadata": {
        "id": "ZJuL74cJmEgv",
        "colab": {
          "base_uri": "https://localhost:8080/"
        },
        "outputId": "1a766cb6-2dfd-4bf2-c009-388769430a87"
      },
      "outputs": [
        {
          "output_type": "stream",
          "name": "stdout",
          "text": [
            "Input details: [{'name': 'serving_default_conv2d_4_input:0', 'index': 0, 'shape': array([ 1, 96, 96,  3], dtype=int32), 'shape_signature': array([-1, 96, 96,  3], dtype=int32), 'dtype': <class 'numpy.uint8'>, 'quantization': (0.003921568859368563, 0), 'quantization_parameters': {'scales': array([0.00392157], dtype=float32), 'zero_points': array([0], dtype=int32), 'quantized_dimension': 0}, 'sparsity_parameters': {}}]\n",
            "Output details: [{'name': 'StatefulPartitionedCall:0', 'index': 19, 'shape': array([1, 2], dtype=int32), 'shape_signature': array([-1,  2], dtype=int32), 'dtype': <class 'numpy.uint8'>, 'quantization': (0.00390625, 0), 'quantization_parameters': {'scales': array([0.00390625], dtype=float32), 'zero_points': array([0], dtype=int32), 'quantized_dimension': 0}, 'sparsity_parameters': {}}]\n"
          ]
        }
      ],
      "source": [
        "interpreter = tf.lite.Interpreter(save_path_lite)\n",
        "interpreter.allocate_tensors()\n",
        "\n",
        "input_details = interpreter.get_input_details()\n",
        "output_details = interpreter.get_output_details()\n",
        "\n",
        "print(\"Input details:\", input_details)\n",
        "print(\"Output details:\", output_details)"
      ]
    },
    {
      "cell_type": "code",
      "execution_count": null,
      "metadata": {
        "id": "7bpCRFizmSmP",
        "colab": {
          "base_uri": "https://localhost:8080/"
        },
        "outputId": "a9b284b0-953d-4b0b-fc7b-f3e763ea1262"
      },
      "outputs": [
        {
          "output_type": "stream",
          "name": "stdout",
          "text": [
            "Model Summary: {'serving_default': {'inputs': ['conv2d_4_input'], 'outputs': ['activation_11']}}\n"
          ]
        }
      ],
      "source": [
        "summary = interpreter.get_signature_list()\n",
        "print(\"Model Summary:\", summary)"
      ]
    },
    {
      "cell_type": "code",
      "execution_count": null,
      "metadata": {
        "id": "fMgpWlI5mTcZ",
        "colab": {
          "base_uri": "https://localhost:8080/"
        },
        "outputId": "6e37d633-2e49-42bc-920d-c63073d42284"
      },
      "outputs": [
        {
          "output_type": "stream",
          "name": "stdout",
          "text": [
            "Input Tensor Shape: [ 1 96 96  3]\n",
            "Output Tensor Shape: [1 2]\n",
            "Input Tensor Type: <class 'numpy.uint8'>\n",
            "Output Tensor Type: <class 'numpy.uint8'>\n"
          ]
        }
      ],
      "source": [
        "input_tensor_shape = input_details[0]['shape']\n",
        "output_tensor_shape = output_details[0]['shape']\n",
        "input_tensor_type = input_details[0]['dtype']\n",
        "output_tensor_type = output_details[0]['dtype']\n",
        "\n",
        "print(\"Input Tensor Shape:\", input_tensor_shape)\n",
        "print(\"Output Tensor Shape:\", output_tensor_shape)\n",
        "print(\"Input Tensor Type:\", input_tensor_type)\n",
        "print(\"Output Tensor Type:\", output_tensor_type)"
      ]
    },
    {
      "cell_type": "markdown",
      "metadata": {
        "id": "VVMCly7FmBM4"
      },
      "source": [
        "Model deployment"
      ]
    },
    {
      "cell_type": "code",
      "execution_count": null,
      "metadata": {
        "id": "LCAoyut0mDU8"
      },
      "outputs": [],
      "source": [
        "!pip install edgeimpulse"
      ]
    },
    {
      "cell_type": "code",
      "execution_count": null,
      "metadata": {
        "id": "OEyDPRARmZf3"
      },
      "outputs": [],
      "source": [
        "import edgeimpulse as ei\n",
        "\n",
        "ei.API_KEY = \"ei_1cf0b46f84d9b28ccf08db95d6bc0ea6131e1a3af90487d7a8a97aaab0dc330e\""
      ]
    },
    {
      "cell_type": "code",
      "execution_count": null,
      "metadata": {
        "id": "6lEH-oQ9nh5F"
      },
      "outputs": [],
      "source": [
        "ei.model.list_profile_devices()"
      ]
    },
    {
      "cell_type": "code",
      "execution_count": null,
      "metadata": {
        "id": "Uon86kLpntoa"
      },
      "outputs": [],
      "source": [
        "profile = ei.model.profile(model=tflite_quant_model, device='espressif-esp32')\n",
        "print(profile.summary())"
      ]
    },
    {
      "cell_type": "code",
      "execution_count": null,
      "metadata": {
        "id": "PCwOVTXEoHRk"
      },
      "outputs": [],
      "source": [
        "#print(f\"Estimated RAM usage: {profile.model.profile_info.float32.memory.tflite.ram}\")\n",
        "#print(f\"Estimated ROM usage: {profile.model.profile_info.float32.memory.tflite.rom}\")\n",
        "#print(f\"Estimated inference time (ms): {profile.model.profile_info.float32.time_per_inference_ms}\")"
      ]
    },
    {
      "cell_type": "code",
      "execution_count": null,
      "metadata": {
        "id": "2MMLqfd7pC7H"
      },
      "outputs": [],
      "source": [
        "ei.model.list_deployment_targets()"
      ]
    },
    {
      "cell_type": "code",
      "execution_count": null,
      "metadata": {
        "id": "KW_ztXDcov3C"
      },
      "outputs": [],
      "source": [
        "ei.model.deploy(model=tflite_quant_model,\n",
        "                model_input_type=ei.model.input_type.OtherInput(),\n",
        "                model_output_type=ei.model.output_type.Classification(),\n",
        "                output_directory=Lib_folder)"
      ]
    }
  ],
  "metadata": {
    "accelerator": "GPU",
    "colab": {
      "cell_execution_strategy": "setup",
      "provenance": [],
      "include_colab_link": true
    },
    "kernelspec": {
      "display_name": "Python 3",
      "name": "python3"
    },
    "language_info": {
      "name": "python"
    }
  },
  "nbformat": 4,
  "nbformat_minor": 0
}